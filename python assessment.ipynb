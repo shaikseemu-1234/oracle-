{
 "cells": [
  {
   "cell_type": "code",
   "execution_count": 1,
   "id": "0f1da096-1ecd-4420-83b6-2a8c063404c3",
   "metadata": {},
   "outputs": [],
   "source": [
    "retail_inventory = {\n",
    "    \"Electronics\": {\n",
    "        \"Laptop\": [55000, 30, \"Dell\"],\n",
    "        \"Mobile\": [25000, 50, \"Samsung\"],\n",
    "        \"Tablet\": [18000, 20, \"Lenovo\"],\n",
    "        \"Smart Watch\": [7999, 40, \"Noise\"]\n",
    "    },\n",
    "    \"Apparel\": {\n",
    "        \"T-Shirt\": [499, 100, \"H&M\"],\n",
    "        \"Jeans\": [1199, 60, \"Levi's\"],\n",
    "        \"Jacket\": [2499, 25, \"Puma\"]\n",
    "    },\n",
    "    \"Home Appliances\": {\n",
    "        \"Microwave\": [8500, 15, \"LG\"],\n",
    "        \"Vacuum Cleaner\": [7000, 10, \"Philips\"],\n",
    "        \"Refrigerator\": [30000, 8, \"Samsung\"]\n",
    "    }\n",
    "}\n",
    "\n"
   ]
  },
  {
   "cell_type": "code",
   "execution_count": 2,
   "id": "74b9369c-074a-4343-a278-546d23c5d83e",
   "metadata": {},
   "outputs": [],
   "source": [
    "\n",
    "##How do you get all the keys from a dictionary? (Use .keys()"
   ]
  },
  {
   "cell_type": "code",
   "execution_count": 3,
   "id": "73b95ccb-76bf-48b9-b23c-6d1441d5ce68",
   "metadata": {},
   "outputs": [
    {
     "data": {
      "text/plain": [
       "dict_keys(['Electronics', 'Apparel', 'Home Appliances'])"
      ]
     },
     "execution_count": 3,
     "metadata": {},
     "output_type": "execute_result"
    }
   ],
   "source": [
    "retail_inventory.keys()"
   ]
  },
  {
   "cell_type": "code",
   "execution_count": 4,
   "id": "80ddb636-15b5-4f01-a494-a07438e9e73b",
   "metadata": {},
   "outputs": [],
   "source": [
    "\n",
    "##How do you get all the values from a dictionary? (Use .values())"
   ]
  },
  {
   "cell_type": "code",
   "execution_count": 5,
   "id": "4bf96f90-6195-4689-a631-d35881740413",
   "metadata": {},
   "outputs": [
    {
     "data": {
      "text/plain": [
       "dict_values([{'Laptop': [55000, 30, 'Dell'], 'Mobile': [25000, 50, 'Samsung'], 'Tablet': [18000, 20, 'Lenovo'], 'Smart Watch': [7999, 40, 'Noise']}, {'T-Shirt': [499, 100, 'H&M'], 'Jeans': [1199, 60, \"Levi's\"], 'Jacket': [2499, 25, 'Puma']}, {'Microwave': [8500, 15, 'LG'], 'Vacuum Cleaner': [7000, 10, 'Philips'], 'Refrigerator': [30000, 8, 'Samsung']}])"
      ]
     },
     "execution_count": 5,
     "metadata": {},
     "output_type": "execute_result"
    }
   ],
   "source": [
    "retail_inventory.values()"
   ]
  },
  {
   "cell_type": "code",
   "execution_count": 6,
   "id": "aa4cbb07-7c49-4359-ab15-3861fd3208dc",
   "metadata": {},
   "outputs": [],
   "source": [
    "\n",
    "\n",
    "##How do you retrieve the value for a specific key safely? (Use .get(key))"
   ]
  },
  {
   "cell_type": "code",
   "execution_count": 7,
   "id": "8859faa0-bcfc-4d66-9f00-fff7c23d3c83",
   "metadata": {},
   "outputs": [
    {
     "data": {
      "text/plain": [
       "[25000, 50, 'Samsung']"
      ]
     },
     "execution_count": 7,
     "metadata": {},
     "output_type": "execute_result"
    }
   ],
   "source": [
    "(retail_inventory.get('Electronics'))['Mobile']"
   ]
  },
  {
   "cell_type": "code",
   "execution_count": 8,
   "id": "bb237fee-91ba-4054-955a-df2889c58b91",
   "metadata": {},
   "outputs": [],
   "source": [
    "\n",
    "##How do you check if a key exists in a dictionary? (Use in)"
   ]
  },
  {
   "cell_type": "code",
   "execution_count": 9,
   "id": "278e6d09-90d2-4bd3-b9bd-9b67410ee50a",
   "metadata": {},
   "outputs": [
    {
     "name": "stdout",
     "output_type": "stream",
     "text": [
      "Yes\n"
     ]
    }
   ],
   "source": [
    "if \"Apparel\" in retail_inventory:\n",
    "##How do you remove a key and return its value? (Use .pop(key))\n",
    "  print('Yes')"
   ]
  },
  {
   "cell_type": "code",
   "execution_count": 10,
   "id": "ccc9802d-a588-4d80-94f5-e315ce044aae",
   "metadata": {},
   "outputs": [],
   "source": [
    "\n",
    "##How do you remove a key and return its value? (Use .pop(key))"
   ]
  },
  {
   "cell_type": "code",
   "execution_count": 11,
   "id": "a24c1cdd-cb8d-49c1-a8e2-86a4c0cf6dcc",
   "metadata": {},
   "outputs": [
    {
     "data": {
      "text/plain": [
       "{'T-Shirt': [499, 100, 'H&M'],\n",
       " 'Jeans': [1199, 60, \"Levi's\"],\n",
       " 'Jacket': [2499, 25, 'Puma']}"
      ]
     },
     "execution_count": 11,
     "metadata": {},
     "output_type": "execute_result"
    }
   ],
   "source": [
    "(retail_inventory.pop(\"Apparel\"))"
   ]
  },
  {
   "cell_type": "code",
   "execution_count": 12,
   "id": "5177b8ea-ca88-4ff0-a334-fdc12185b38f",
   "metadata": {},
   "outputs": [
    {
     "data": {
      "text/plain": [
       "{'Electronics': {'Laptop': [55000, 30, 'Dell'],\n",
       "  'Mobile': [25000, 50, 'Samsung'],\n",
       "  'Tablet': [18000, 20, 'Lenovo'],\n",
       "  'Smart Watch': [7999, 40, 'Noise']},\n",
       " 'Home Appliances': {'Microwave': [8500, 15, 'LG'],\n",
       "  'Vacuum Cleaner': [7000, 10, 'Philips'],\n",
       "  'Refrigerator': [30000, 8, 'Samsung']}}"
      ]
     },
     "execution_count": 12,
     "metadata": {},
     "output_type": "execute_result"
    }
   ],
   "source": [
    "\n",
    "retail_inventory"
   ]
  },
  {
   "cell_type": "code",
   "execution_count": 13,
   "id": "eb0937e5-a8bb-4635-8401-ee15b9df40ed",
   "metadata": {},
   "outputs": [],
   "source": [
    "\n",
    "##How do you retrieve both keys and values? (Use .items())"
   ]
  },
  {
   "cell_type": "code",
   "execution_count": 14,
   "id": "75147f64-494f-4c0c-a478-05444ff48ef8",
   "metadata": {},
   "outputs": [
    {
     "data": {
      "text/plain": [
       "dict_items([('Electronics', {'Laptop': [55000, 30, 'Dell'], 'Mobile': [25000, 50, 'Samsung'], 'Tablet': [18000, 20, 'Lenovo'], 'Smart Watch': [7999, 40, 'Noise']}), ('Home Appliances', {'Microwave': [8500, 15, 'LG'], 'Vacuum Cleaner': [7000, 10, 'Philips'], 'Refrigerator': [30000, 8, 'Samsung']})])"
      ]
     },
     "execution_count": 14,
     "metadata": {},
     "output_type": "execute_result"
    }
   ],
   "source": [
    "retail_inventory.items()"
   ]
  },
  {
   "cell_type": "code",
   "execution_count": 15,
   "id": "54b47346-d32b-464f-8a26-9ad5614ab668",
   "metadata": {},
   "outputs": [],
   "source": [
    "\n",
    "##How do you add or update a value for a key? (Use .update({key: value}))"
   ]
  },
  {
   "cell_type": "code",
   "execution_count": 16,
   "id": "dc32b0f4-4622-4b51-afbf-3a2155842a47",
   "metadata": {},
   "outputs": [],
   "source": [
    "(retail_inventory.update({\"Makeup Items\":\"powder\"}))"
   ]
  },
  {
   "cell_type": "code",
   "execution_count": 17,
   "id": "4b7ed292-8719-44cc-b95f-5b22056e67aa",
   "metadata": {},
   "outputs": [],
   "source": [
    "##How do you remove all key-value pairs from a dictionary? (Use .clear())"
   ]
  },
  {
   "cell_type": "code",
   "execution_count": 18,
   "id": "9dffeb09-602a-4b10-b726-096c391de02b",
   "metadata": {},
   "outputs": [],
   "source": [
    "(retail_inventory.clear())"
   ]
  },
  {
   "cell_type": "code",
   "execution_count": 19,
   "id": "60a26f14-025a-45dc-9c5a-5e08dd1320a6",
   "metadata": {},
   "outputs": [
    {
     "data": {
      "text/plain": [
       "{}"
      ]
     },
     "execution_count": 19,
     "metadata": {},
     "output_type": "execute_result"
    }
   ],
   "source": [
    "\n",
    "retail_inventory"
   ]
  },
  {
   "cell_type": "code",
   "execution_count": 20,
   "id": "556d33f5-e5c8-49e5-bb06-c00761e69753",
   "metadata": {},
   "outputs": [],
   "source": [
    "\n",
    "##How do you create an empty dictionary? (Use {} or dict())"
   ]
  },
  {
   "cell_type": "code",
   "execution_count": 21,
   "id": "b63e4bbd-b5d7-4d22-ba19-0bb63b1cb9d4",
   "metadata": {},
   "outputs": [],
   "source": [
    "retail_inventory.clear()"
   ]
  },
  {
   "cell_type": "code",
   "execution_count": 27,
   "id": "7c03d987-e792-41a8-9059-3a3b275e5cfa",
   "metadata": {},
   "outputs": [
    {
     "data": {
      "text/plain": [
       "{}"
      ]
     },
     "execution_count": 27,
     "metadata": {},
     "output_type": "execute_result"
    }
   ],
   "source": [
    "retail_inventory"
   ]
  },
  {
   "cell_type": "code",
   "execution_count": 23,
   "id": "0b236ce8-550f-4a72-adf7-48404322b5de",
   "metadata": {},
   "outputs": [],
   "source": [
    "##How do you copy a dictionary? (Use .copy())"
   ]
  },
  {
   "cell_type": "code",
   "execution_count": 28,
   "id": "016952b5-345f-47ec-8024-146b3aa4bd75",
   "metadata": {},
   "outputs": [
    {
     "data": {
      "text/plain": [
       "{}"
      ]
     },
     "execution_count": 28,
     "metadata": {},
     "output_type": "execute_result"
    }
   ],
   "source": [
    "retail_inventory"
   ]
  },
  {
   "cell_type": "code",
   "execution_count": 29,
   "id": "efc42067-146a-4318-8e51-d88eb5a0d391",
   "metadata": {},
   "outputs": [],
   "source": [
    "retail_inventory = {\n",
    "    \"Electronics\": {\n",
    "        \"Laptop\": [55000, 30, \"Dell\"],\n",
    "        \"Mobile\": [25000, 50, \"Samsung\"],\n",
    "        \"Tablet\": [18000, 20, \"Lenovo\"],\n",
    "        \"Smart Watch\": [7999, 40, \"Noise\"]\n",
    "    },\n",
    "    \"Apparel\": {\n",
    "        \"T-Shirt\": [499, 100, \"H&M\"],\n",
    "        \"Jeans\": [1199, 60, \"Levi's\"],\n",
    "        \"Jacket\": [2499, 25, \"Puma\"]\n",
    "    },\n",
    "    \"Home Appliances\": {\n",
    "        \"Microwave\": [8500, 15, \"LG\"],\n",
    "        \"Vacuum Cleaner\": [7000, 10, \"Philips\"],\n",
    "        \"Refrigerator\": [30000, 8, \"Samsung\"]\n",
    "    }\n",
    "}\n",
    "\n"
   ]
  },
  {
   "cell_type": "code",
   "execution_count": 30,
   "id": "9a330b86-a9af-474a-ad96-7dd0ce424e97",
   "metadata": {},
   "outputs": [],
   "source": [
    "##How do you copy a dictionary? (Use .copy())"
   ]
  },
  {
   "cell_type": "code",
   "execution_count": 31,
   "id": "646c972d-a8b5-440b-b14a-f0b498a04c11",
   "metadata": {},
   "outputs": [
    {
     "name": "stdout",
     "output_type": "stream",
     "text": [
      "{'Laptop': [55000, 30, 'Dell'], 'Mobile': [25000, 50, 'Samsung'], 'Tablet': [18000, 20, 'Lenovo'], 'Smart Watch': [7999, 40, 'Noise']}\n"
     ]
    }
   ],
   "source": [
    "my_data=retail_inventory.copy()['Electronics']\n",
    "print(my_data)"
   ]
  },
  {
   "cell_type": "code",
   "execution_count": 32,
   "id": "6f3ff7e0-429d-4814-bc07-912ec73bf012",
   "metadata": {},
   "outputs": [
    {
     "data": {
      "text/plain": [
       "{'Electronics': {'Laptop': [55000, 30, 'Dell'],\n",
       "  'Mobile': [25000, 50, 'Samsung'],\n",
       "  'Tablet': [18000, 20, 'Lenovo'],\n",
       "  'Smart Watch': [7999, 40, 'Noise']},\n",
       " 'Apparel': {'T-Shirt': [499, 100, 'H&M'],\n",
       "  'Jeans': [1199, 60, \"Levi's\"],\n",
       "  'Jacket': [2499, 25, 'Puma']},\n",
       " 'Home Appliances': {'Microwave': [8500, 15, 'LG'],\n",
       "  'Vacuum Cleaner': [7000, 10, 'Philips'],\n",
       "  'Refrigerator': [30000, 8, 'Samsung']}}"
      ]
     },
     "execution_count": 32,
     "metadata": {},
     "output_type": "execute_result"
    }
   ],
   "source": [
    "retail_inventory"
   ]
  },
  {
   "cell_type": "code",
   "execution_count": 33,
   "id": "f80000e4-61ca-4b4c-b477-e43097050d50",
   "metadata": {},
   "outputs": [],
   "source": [
    "##newdata=retail_inventory.setdefault('Electronics',\"Android \")"
   ]
  },
  {
   "cell_type": "code",
   "execution_count": 34,
   "id": "b9a3d4a5-c9a5-4d88-8253-58ffd4cea612",
   "metadata": {},
   "outputs": [],
   "source": [
    "\n",
    "newdata=retail_inventory.setdefault('Mobile',\"Android \")"
   ]
  },
  {
   "cell_type": "code",
   "execution_count": 35,
   "id": "8443db2d-64f0-4c8f-8387-25a4908fd23e",
   "metadata": {},
   "outputs": [
    {
     "data": {
      "text/plain": [
       "'Android '"
      ]
     },
     "execution_count": 35,
     "metadata": {},
     "output_type": "execute_result"
    }
   ],
   "source": [
    "\n",
    "\n",
    "newdata"
   ]
  },
  {
   "cell_type": "code",
   "execution_count": 36,
   "id": "f533952e-4310-4ffe-89fa-2879a32db7a7",
   "metadata": {},
   "outputs": [],
   "source": [
    "\n",
    "\n",
    "##Use .update() to merge two dictionaries."
   ]
  },
  {
   "cell_type": "code",
   "execution_count": 37,
   "id": "1792cb98-b3c7-4d7c-96bb-012ceb4e24e5",
   "metadata": {},
   "outputs": [],
   "source": [
    "newdata1={'beauty products':'powder',\n",
    "          'healthcare':'cosmetics',\n",
    "          'sports':'cricket'}\n",
    "     "
   ]
  },
  {
   "cell_type": "code",
   "execution_count": 38,
   "id": "48a0fcf9-2e66-43d6-a0c2-a9816c70da10",
   "metadata": {},
   "outputs": [],
   "source": [
    "\n",
    "x=(retail_inventory.update(newdata1))"
   ]
  },
  {
   "cell_type": "code",
   "execution_count": 39,
   "id": "725bffef-abf8-4937-92d8-7065c16b50ba",
   "metadata": {},
   "outputs": [
    {
     "data": {
      "text/plain": [
       "{'Electronics': {'Laptop': [55000, 30, 'Dell'],\n",
       "  'Mobile': [25000, 50, 'Samsung'],\n",
       "  'Tablet': [18000, 20, 'Lenovo'],\n",
       "  'Smart Watch': [7999, 40, 'Noise']},\n",
       " 'Apparel': {'T-Shirt': [499, 100, 'H&M'],\n",
       "  'Jeans': [1199, 60, \"Levi's\"],\n",
       "  'Jacket': [2499, 25, 'Puma']},\n",
       " 'Home Appliances': {'Microwave': [8500, 15, 'LG'],\n",
       "  'Vacuum Cleaner': [7000, 10, 'Philips'],\n",
       "  'Refrigerator': [30000, 8, 'Samsung']},\n",
       " 'Mobile': 'Android ',\n",
       " 'beauty products': 'powder',\n",
       " 'healthcare': 'cosmetics',\n",
       " 'sports': 'cricket'}"
      ]
     },
     "execution_count": 39,
     "metadata": {},
     "output_type": "execute_result"
    }
   ],
   "source": [
    "\n",
    "retail_inventory"
   ]
  },
  {
   "cell_type": "code",
   "execution_count": 40,
   "id": "b2e189c3-3569-4626-b2f7-a53faa0954b5",
   "metadata": {},
   "outputs": [],
   "source": [
    "##Use .get() with a default return value if key is not found."
   ]
  },
  {
   "cell_type": "code",
   "execution_count": 41,
   "id": "8ff0bc2f-67f2-4c75-9668-2cfb83f8f12d",
   "metadata": {},
   "outputs": [],
   "source": [
    "##retail_inventory.get('Smart Watch','Apple')\n",
    "new_dict=(retail_inventory.get('Electronics','Android'))\n",
    "new_dict1=(retail_inventory.get('Vehicals','not found'))"
   ]
  },
  {
   "cell_type": "code",
   "execution_count": 42,
   "id": "407536a3-b87e-418a-a1fd-98a4f33eda3d",
   "metadata": {},
   "outputs": [
    {
     "data": {
      "text/plain": [
       "{'Laptop': [55000, 30, 'Dell'],\n",
       " 'Mobile': [25000, 50, 'Samsung'],\n",
       " 'Tablet': [18000, 20, 'Lenovo'],\n",
       " 'Smart Watch': [7999, 40, 'Noise']}"
      ]
     },
     "execution_count": 42,
     "metadata": {},
     "output_type": "execute_result"
    }
   ],
   "source": [
    "\n",
    "\n",
    "new_dict"
   ]
  },
  {
   "cell_type": "code",
   "execution_count": 43,
   "id": "71fef199-3cc2-4411-9f2c-c4534cf6dfe2",
   "metadata": {},
   "outputs": [
    {
     "data": {
      "text/plain": [
       "'not found'"
      ]
     },
     "execution_count": 43,
     "metadata": {},
     "output_type": "execute_result"
    }
   ],
   "source": [
    "\n",
    "new_dict1"
   ]
  },
  {
   "cell_type": "code",
   "execution_count": 46,
   "id": "414efcd9-deee-4630-ac5f-4d398a0eb000",
   "metadata": {},
   "outputs": [],
   "source": [
    "\n",
    "\n",
    "##What’s the difference between .pop() and .popitem()? Try both.pop"
   ]
  },
  {
   "cell_type": "code",
   "execution_count": 47,
   "id": "3e6f6b3d-a4fd-452f-8b6d-ed9a2dd12247",
   "metadata": {},
   "outputs": [
    {
     "data": {
      "text/plain": [
       "{'Microwave': [8500, 15, 'LG'],\n",
       " 'Vacuum Cleaner': [7000, 10, 'Philips'],\n",
       " 'Refrigerator': [30000, 8, 'Samsung']}"
      ]
     },
     "execution_count": 47,
     "metadata": {},
     "output_type": "execute_result"
    }
   ],
   "source": [
    "retail_inventory.pop(\"Home Appliances\")"
   ]
  },
  {
   "cell_type": "code",
   "execution_count": 48,
   "id": "e9663c42-8cf9-4bfc-bf90-f5552833edbc",
   "metadata": {},
   "outputs": [
    {
     "data": {
      "text/plain": [
       "{'Electronics': {'Laptop': [55000, 30, 'Dell'],\n",
       "  'Mobile': [25000, 50, 'Samsung'],\n",
       "  'Tablet': [18000, 20, 'Lenovo'],\n",
       "  'Smart Watch': [7999, 40, 'Noise']},\n",
       " 'Apparel': {'T-Shirt': [499, 100, 'H&M'],\n",
       "  'Jeans': [1199, 60, \"Levi's\"],\n",
       "  'Jacket': [2499, 25, 'Puma']},\n",
       " 'Mobile': 'Android ',\n",
       " 'beauty products': 'powder',\n",
       " 'healthcare': 'cosmetics',\n",
       " 'sports': 'cricket'}"
      ]
     },
     "execution_count": 48,
     "metadata": {},
     "output_type": "execute_result"
    }
   ],
   "source": [
    "\n",
    "\n",
    "retail_inventory"
   ]
  },
  {
   "cell_type": "code",
   "execution_count": 49,
   "id": "0604db48-1a6c-434b-99ce-3501da82990e",
   "metadata": {},
   "outputs": [
    {
     "data": {
      "text/plain": [
       "('sports', 'cricket')"
      ]
     },
     "execution_count": 49,
     "metadata": {},
     "output_type": "execute_result"
    }
   ],
   "source": [
    "\n",
    "\n",
    "retail_inventory.popitem()"
   ]
  },
  {
   "cell_type": "code",
   "execution_count": 51,
   "id": "fa858808-4fd2-4f15-9900-158457ecdf0a",
   "metadata": {},
   "outputs": [],
   "source": [
    "\n",
    "\n",
    "#Use del to remove a key from a dictionary."
   ]
  },
  {
   "cell_type": "code",
   "execution_count": 52,
   "id": "a0e485fe-7b3a-430c-888e-af2035bf8665",
   "metadata": {},
   "outputs": [],
   "source": [
    "del retail_inventory[\"Electronics\"]"
   ]
  },
  {
   "cell_type": "code",
   "execution_count": 53,
   "id": "0946eb98-9369-4039-9196-b9a1acef7300",
   "metadata": {},
   "outputs": [
    {
     "data": {
      "text/plain": [
       "{'Apparel': {'T-Shirt': [499, 100, 'H&M'],\n",
       "  'Jeans': [1199, 60, \"Levi's\"],\n",
       "  'Jacket': [2499, 25, 'Puma']},\n",
       " 'Mobile': 'Android ',\n",
       " 'beauty products': 'powder',\n",
       " 'healthcare': 'cosmetics'}"
      ]
     },
     "execution_count": 53,
     "metadata": {},
     "output_type": "execute_result"
    }
   ],
   "source": [
    "\n",
    "retail_inventory"
   ]
  },
  {
   "cell_type": "code",
   "execution_count": 56,
   "id": "e7b4398c-5d36-4676-a220-e8e127d9d747",
   "metadata": {},
   "outputs": [],
   "source": [
    "retail_inventory = {\n",
    "    \"Electronics\": {\n",
    "        \"Laptop\": [55000, 30, \"Dell\"],\n",
    "        \"Mobile\": [25000, 50, \"Samsung\"],\n",
    "        \"Tablet\": [18000, 20, \"Lenovo\"],\n",
    "        \"Smart Watch\": [7999, 40, \"Noise\"]\n",
    "    },\n",
    "    \"Apparel\": {\n",
    "        \"T-Shirt\": [499, 100, \"H&M\"],\n",
    "        \"Jeans\": [1199, 60, \"Levi's\"],\n",
    "        \"Jacket\": [2499, 25, \"Puma\"]\n",
    "    },\n",
    "    \"Home Appliances\": {\n",
    "        \"Microwave\": [8500, 15, \"LG\"],\n",
    "        \"Vacuum Cleaner\": [7000, 10, \"Philips\"],\n",
    "        \"Refrigerator\": [30000, 8, \"Samsung\"]\n",
    "    }\n",
    "}"
   ]
  },
  {
   "cell_type": "code",
   "execution_count": 57,
   "id": "e93fc5cf-2ef7-4783-ad6b-54b2e260ad15",
   "metadata": {},
   "outputs": [],
   "source": [
    "\n",
    "##Get the number of keys in a dictionary. (Use len())"
   ]
  },
  {
   "cell_type": "code",
   "execution_count": 58,
   "id": "d1a75365-5c10-4a67-a82e-32c270a7d82c",
   "metadata": {},
   "outputs": [
    {
     "data": {
      "text/plain": [
       "4"
      ]
     },
     "execution_count": 58,
     "metadata": {},
     "output_type": "execute_result"
    }
   ],
   "source": [
    "len(retail_inventory[\"Electronics\"])"
   ]
  },
  {
   "cell_type": "code",
   "execution_count": 59,
   "id": "ec7df311-051c-4ee9-beeb-23c7d56a117e",
   "metadata": {},
   "outputs": [],
   "source": [
    "\n",
    "##Convert a list of tuples into a dictionary. (Use dict() constructor)"
   ]
  },
  {
   "cell_type": "code",
   "execution_count": 60,
   "id": "6744b5b3-3055-4ac5-ae96-d10d04fd6cf9",
   "metadata": {},
   "outputs": [],
   "source": [
    "x=(('apple',2),('ball',3),('doll',5))\n",
    "y=dict(x)"
   ]
  },
  {
   "cell_type": "code",
   "execution_count": 61,
   "id": "4d5885bb-0fc1-48d0-85cf-8baf8cda5dd9",
   "metadata": {},
   "outputs": [
    {
     "data": {
      "text/plain": [
       "{'apple': 2, 'ball': 3, 'doll': 5}"
      ]
     },
     "execution_count": 61,
     "metadata": {},
     "output_type": "execute_result"
    }
   ],
   "source": [
    "y"
   ]
  },
  {
   "cell_type": "code",
   "execution_count": 62,
   "id": "5179c61e-168a-4744-aa52-0c1a18d5c8d3",
   "metadata": {},
   "outputs": [],
   "source": [
    " #Create a dictionary from two lists: one of keys and one of values. (Use zip() and dict())\n"
   ]
  },
  {
   "cell_type": "code",
   "execution_count": 63,
   "id": "e9c3f4fa-66d9-4ea3-9acd-254ad3ac9468",
   "metadata": {},
   "outputs": [
    {
     "name": "stdout",
     "output_type": "stream",
     "text": [
      "{'a': 1, 'b': 2, 'c': 3}\n"
     ]
    }
   ],
   "source": [
    "keys = ['a', 'b', 'c']\n",
    "values = [1, 2, 3]\n",
    "\n",
    "my_dict = dict(zip(keys, values))\n",
    "print(my_dict)"
   ]
  },
  {
   "cell_type": "code",
   "execution_count": 64,
   "id": "077a79f8-044f-4791-aba8-027966166159",
   "metadata": {},
   "outputs": [],
   "source": [
    "#Check if two dictionaries have the same keys. (Use .keys() and ==)"
   ]
  },
  {
   "cell_type": "code",
   "execution_count": 65,
   "id": "f5e7548b-3a52-4e13-891d-14dd645781e4",
   "metadata": {},
   "outputs": [
    {
     "name": "stdout",
     "output_type": "stream",
     "text": [
      "True\n"
     ]
    }
   ],
   "source": [
    "dict1 = {'a': 1, 'b': 2, 'c': 3}\n",
    "dict2 = {'a': 10, 'b': 20, 'c': 30}\n",
    "\n",
    "same_keys = dict1.keys() == dict2.keys()\n",
    "print(same_keys)"
   ]
  },
  {
   "cell_type": "code",
   "execution_count": 66,
   "id": "7f0a7d11-d4cc-4b73-b28c-7b94c6db7ff0",
   "metadata": {},
   "outputs": [],
   "source": [
    "#Check if a dictionary is empty. (Use not or len())"
   ]
  },
  {
   "cell_type": "code",
   "execution_count": 67,
   "id": "910963c1-5ffe-4720-aa81-e1e1c3f01f24",
   "metadata": {},
   "outputs": [
    {
     "name": "stdout",
     "output_type": "stream",
     "text": [
      "Dictionary is empty\n"
     ]
    }
   ],
   "source": [
    "my_dict = {}\n",
    "\n",
    "if not my_dict:\n",
    "    print(\"Dictionary is empty\")"
   ]
  },
  {
   "cell_type": "code",
   "execution_count": 69,
   "id": "a0d3a336-0ed6-40cf-8d40-d75d7f6f27cc",
   "metadata": {},
   "outputs": [],
   "source": [
    "#Get a list of all unique values using set() and .values()"
   ]
  },
  {
   "cell_type": "code",
   "execution_count": 70,
   "id": "5b662e6d-64f4-4712-ad2a-0ec9b42babe6",
   "metadata": {},
   "outputs": [
    {
     "name": "stdout",
     "output_type": "stream",
     "text": [
      "[1, 2, 3]\n"
     ]
    }
   ],
   "source": [
    "my_dict = {'a': 1, 'b': 2, 'c': 1, 'd': 3}\n",
    "\n",
    "unique_values = list(set(my_dict.values()))\n",
    "print(unique_values)"
   ]
  },
  {
   "cell_type": "code",
   "execution_count": 71,
   "id": "6cddb9c0-ea16-483c-a21c-bea427ef0c2c",
   "metadata": {},
   "outputs": [],
   "source": [
    "#Create a nested dictionary using dictionary literals"
   ]
  },
  {
   "cell_type": "code",
   "execution_count": 72,
   "id": "2a4bbeb0-7017-449a-9027-9528a2f4b6e3",
   "metadata": {},
   "outputs": [
    {
     "name": "stdout",
     "output_type": "stream",
     "text": [
      "{'person1': {'name': 'Alice', 'age': 30}, 'person2': {'name': 'Bob', 'age': 25}, 'person3': {'name': 'Charlie', 'age': 35}}\n"
     ]
    }
   ],
   "source": [
    "nested_dict = {\n",
    "    'person1': {'name': 'Alice', 'age': 30},\n",
    "    'person2': {'name': 'Bob', 'age': 25},\n",
    "    'person3': {'name': 'Charlie', 'age': 35}\n",
    "}\n",
    "\n",
    "print(nested_dict)"
   ]
  },
  {
   "cell_type": "code",
   "execution_count": 73,
   "id": "7e99728d-6170-412d-933f-cb80decd231e",
   "metadata": {},
   "outputs": [
    {
     "name": "stdout",
     "output_type": "stream",
     "text": [
      "{'a': 1, 'b': 2, 'c': 3}\n"
     ]
    }
   ],
   "source": [
    "dict1 = {'a': 1}\n",
    "dict2 = {'b': 2}\n",
    "dict3 = {'c': 3}\n",
    "\n",
    "merged_dict = {}\n",
    "merged_dict.update(dict1)\n",
    "merged_dict.update(dict2)\n",
    "merged_dict.update(dict3)\n",
    "\n",
    "print(merged_dict)"
   ]
  },
  {
   "cell_type": "code",
   "execution_count": 74,
   "id": "bda72acb-24e1-4f84-9bf6-77747f0b38a8",
   "metadata": {},
   "outputs": [],
   "source": [
    "#Use .fromkeys() to create a dictionary with default values"
   ]
  },
  {
   "cell_type": "code",
   "execution_count": 75,
   "id": "6360bad3-a1da-4909-a5e4-cde09a3a85be",
   "metadata": {},
   "outputs": [
    {
     "name": "stdout",
     "output_type": "stream",
     "text": [
      "{'a': 0, 'b': 0, 'c': 0}\n"
     ]
    }
   ],
   "source": [
    "keys=['a','b','c']\n",
    "default_value=0\n",
    "my_dict=dict.fromkeys(keys,default_value)\n",
    "print(my_dict)"
   ]
  },
  {
   "cell_type": "code",
   "execution_count": 76,
   "id": "d396dbd9-155a-4ca3-a77e-18005fce5543",
   "metadata": {},
   "outputs": [],
   "source": [
    "#Use .get() to avoid a KeyError while accessing a deeply nested dictionary.\n"
   ]
  },
  {
   "cell_type": "code",
   "execution_count": 77,
   "id": "1245fa78-fe40-4ec9-8a44-8fb926d4b997",
   "metadata": {},
   "outputs": [
    {
     "name": "stdout",
     "output_type": "stream",
     "text": [
      "Alice\n"
     ]
    }
   ],
   "source": [
    "data = {\n",
    "    'user': {\n",
    "        'profile': {\n",
    "            'name': 'Alice',\n",
    "            'age': 30\n",
    "        }\n",
    "    }\n",
    "}\n",
    "\n",
    "# Accessing name safely using .get()\n",
    "name = data.get('user', {}).get('profile', {}).get('name')\n",
    "\n",
    "print(name)"
   ]
  },
  {
   "cell_type": "code",
   "execution_count": null,
   "id": "260b6140-197f-4911-bc9c-9af7507ba23a",
   "metadata": {},
   "outputs": [],
   "source": []
  }
 ],
 "metadata": {
  "kernelspec": {
   "display_name": "Python 3 (ipykernel)",
   "language": "python",
   "name": "python3"
  },
  "language_info": {
   "codemirror_mode": {
    "name": "ipython",
    "version": 3
   },
   "file_extension": ".py",
   "mimetype": "text/x-python",
   "name": "python",
   "nbconvert_exporter": "python",
   "pygments_lexer": "ipython3",
   "version": "3.13.2"
  }
 },
 "nbformat": 4,
 "nbformat_minor": 5
}
