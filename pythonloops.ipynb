{
 "cells": [
  {
   "cell_type": "code",
   "execution_count": 1,
   "id": "2ce3efb6-6eb3-4965-a009-8c5823c0fa4b",
   "metadata": {},
   "outputs": [],
   "source": [
    "# 1. Print numbers from 1 to 5"
   ]
  },
  {
   "cell_type": "code",
   "execution_count": 2,
   "id": "c5c6d41a-18bf-4948-b228-1950ddc77ab2",
   "metadata": {},
   "outputs": [
    {
     "name": "stdout",
     "output_type": "stream",
     "text": [
      "1\n",
      "2\n",
      "3\n",
      "4\n",
      "5\n"
     ]
    }
   ],
   "source": [
    "for i in range(1,6):\n",
    "    print(i)"
   ]
  },
  {
   "cell_type": "code",
   "execution_count": 3,
   "id": "4efdad5c-2462-4482-99a4-f2c5f8673994",
   "metadata": {},
   "outputs": [
    {
     "name": "stdout",
     "output_type": "stream",
     "text": [
      "for loop 1: 1\n",
      "for loop 1: 2\n",
      "for loop 1: 3\n",
      "for loop 1: 4\n",
      "for loop 1: 5\n"
     ]
    }
   ],
   "source": [
    "for i in range(1,6):\n",
    "    print(\"for loop 1:\",i)"
   ]
  },
  {
   "cell_type": "code",
   "execution_count": 4,
   "id": "d5859e10-2aa4-44c0-8f9d-74434421b9a3",
   "metadata": {},
   "outputs": [],
   "source": [
    "# 2. Print each letter in a string"
   ]
  },
  {
   "cell_type": "code",
   "execution_count": 5,
   "id": "3047ade6-3331-4d5a-8bb3-e14a1085333e",
   "metadata": {},
   "outputs": [
    {
     "name": "stdout",
     "output_type": "stream",
     "text": [
      "h\n",
      "e\n",
      "l\n",
      "l\n",
      "o\n"
     ]
    }
   ],
   "source": [
    "for i in \"hello\":\n",
    "    print(i)"
   ]
  },
  {
   "cell_type": "code",
   "execution_count": 6,
   "id": "b550f940-476b-4256-9453-949d0e248569",
   "metadata": {},
   "outputs": [],
   "source": [
    "# 3. Sum of numbers in a list"
   ]
  },
  {
   "cell_type": "code",
   "execution_count": 7,
   "id": "cf279909-8335-4989-a9eb-f753e34aacdf",
   "metadata": {},
   "outputs": [
    {
     "name": "stdout",
     "output_type": "stream",
     "text": [
      "For Loop 3 Total: 55\n"
     ]
    }
   ],
   "source": [
    "numbers = [1, 2, 3, 4, 5,6,7,8,9,10]\n",
    "total = 0\n",
    "for i in numbers:\n",
    "    total += i\n",
    "print(\"For Loop 3 Total:\", total)"
   ]
  },
  {
   "cell_type": "code",
   "execution_count": 8,
   "id": "073a5fc2-6806-4520-a52c-ccd35d8e0d14",
   "metadata": {},
   "outputs": [],
   "source": [
    "# 4. Print even numbers from 1 to 10"
   ]
  },
  {
   "cell_type": "code",
   "execution_count": 9,
   "id": "799dbccc-a9a2-408d-aba6-395341afc461",
   "metadata": {},
   "outputs": [
    {
     "name": "stdout",
     "output_type": "stream",
     "text": [
      " Even: 2\n",
      " Even: 4\n",
      " Even: 6\n",
      " Even: 8\n",
      " Even: 10\n",
      " Even: 12\n",
      " Even: 14\n",
      " Even: 16\n",
      " Even: 18\n"
     ]
    }
   ],
   "source": [
    "for i in range(1, 20):\n",
    "    if i % 2 == 0:\n",
    "        print(\" Even:\", i)"
   ]
  },
  {
   "cell_type": "code",
   "execution_count": 10,
   "id": "8f3e2b04-8b90-47e0-aaad-2bfda53003da",
   "metadata": {},
   "outputs": [],
   "source": [
    "\n",
    "# 5. Print multiplication table of 3\n"
   ]
  },
  {
   "cell_type": "code",
   "execution_count": 13,
   "id": "7d78af2a-290a-4103-8503-66293490fb4b",
   "metadata": {},
   "outputs": [
    {
     "name": "stdout",
     "output_type": "stream",
     "text": [
      "multiplication of 3 table is :  3 x 1 = 3\n",
      "multiplication of 3 table is :  3 x 2 = 6\n",
      "multiplication of 3 table is :  3 x 3 = 9\n",
      "multiplication of 3 table is :  3 x 4 = 12\n",
      "multiplication of 3 table is :  3 x 5 = 15\n",
      "multiplication of 3 table is :  3 x 6 = 18\n",
      "multiplication of 3 table is :  3 x 7 = 21\n",
      "multiplication of 3 table is :  3 x 8 = 24\n",
      "multiplication of 3 table is :  3 x 9 = 27\n",
      "multiplication of 3 table is :  3 x 10 = 30\n"
     ]
    }
   ],
   "source": [
    "for i in range(1,11):\n",
    " print(\"multiplication of 3 table is : \",3, \"x\", i, \"=\", 3 * i)"
   ]
  },
  {
   "cell_type": "code",
   "execution_count": 14,
   "id": "1d2593c0-f782-4abf-9413-66c83d468bc0",
   "metadata": {},
   "outputs": [],
   "source": [
    "# 6. Iterate over list with index"
   ]
  },
  {
   "cell_type": "code",
   "execution_count": 15,
   "id": "1d983910-ea0a-4713-8527-f5951281cc1c",
   "metadata": {},
   "outputs": [
    {
     "name": "stdout",
     "output_type": "stream",
     "text": [
      "For Loop 6: 0 apple\n",
      "For Loop 6: 1 banana\n",
      "For Loop 6: 2 cherry\n",
      "For Loop 6: 3 grapes\n"
     ]
    }
   ],
   "source": [
    "fruits = [\"apple\", \"banana\", \"cherry\" , \"grapes\"]\n",
    "for i in range(len(fruits)):\n",
    "    print(\"For Loop 6:\", i, fruits[i])"
   ]
  },
  {
   "cell_type": "code",
   "execution_count": 16,
   "id": "979a8b96-3f3e-4791-97b1-bfa59ac285ac",
   "metadata": {},
   "outputs": [],
   "source": [
    "# 7. Print squares of numbers"
   ]
  },
  {
   "cell_type": "code",
   "execution_count": 17,
   "id": "62422b95-a182-4239-ad0e-d41881f02147",
   "metadata": {},
   "outputs": [
    {
     "name": "stdout",
     "output_type": "stream",
     "text": [
      "Square of 0 is 0\n",
      "Square of 1 is 1\n",
      "Square of 2 is 4\n",
      "Square of 3 is 9\n",
      "Square of 4 is 16\n",
      "Square of 5 is 25\n"
     ]
    }
   ],
   "source": [
    "for i in range(6):\n",
    "    print(\"Square of\", i, \"is\", i ** 2)"
   ]
  },
  {
   "cell_type": "code",
   "execution_count": 18,
   "id": "3f117126-bc74-4a2b-b23d-b3dd15107e75",
   "metadata": {},
   "outputs": [
    {
     "name": "stdout",
     "output_type": "stream",
     "text": [
      "0\n",
      "1\n",
      "4\n",
      "9\n",
      "16\n",
      "25\n"
     ]
    }
   ],
   "source": [
    "for i in range(6):\n",
    "    print( i ** 2)"
   ]
  },
  {
   "cell_type": "code",
   "execution_count": 19,
   "id": "7aad1886-cd73-4613-b06c-3b3f8b6c4b79",
   "metadata": {},
   "outputs": [],
   "source": [
    "# 8. Loop over dictionary"
   ]
  },
  {
   "cell_type": "code",
   "execution_count": 21,
   "id": "4f2f6223-dd8c-4f2e-a413-c546c0b97794",
   "metadata": {},
   "outputs": [
    {
     "name": "stdout",
     "output_type": "stream",
     "text": [
      "information of student name -> Alice\n",
      "information of student age -> 20\n"
     ]
    }
   ],
   "source": [
    "student = {\"name\": \"Alice\", \"age\": 20}\n",
    "for key in student:\n",
    "    print(\"information of student\", key, \"->\", student[key])"
   ]
  },
  {
   "cell_type": "code",
   "execution_count": 22,
   "id": "674a9b70-3af7-4629-9583-a18cfab461d8",
   "metadata": {},
   "outputs": [],
   "source": [
    "# 9. Nested loop for pairs"
   ]
  },
  {
   "cell_type": "code",
   "execution_count": 23,
   "id": "7e229507-db28-40a1-8cc9-554fdbf04fd8",
   "metadata": {},
   "outputs": [
    {
     "name": "stdout",
     "output_type": "stream",
     "text": [
      "0 0\n",
      "0 1\n",
      "1 0\n",
      "1 1\n",
      "2 0\n",
      "2 1\n"
     ]
    }
   ],
   "source": [
    "for i in range(3):\n",
    "    for j in range(2):\n",
    "        print(i, j)"
   ]
  },
  {
   "cell_type": "code",
   "execution_count": 24,
   "id": "ecaa7a2d-511b-4b51-afbe-434ad9b32e59",
   "metadata": {},
   "outputs": [],
   "source": [
    "# 10. Loop over a set"
   ]
  },
  {
   "cell_type": "code",
   "execution_count": 31,
   "id": "59bca5d8-1cd3-4fb4-bef6-c20ae962276a",
   "metadata": {},
   "outputs": [
    {
     "name": "stdout",
     "output_type": "stream",
     "text": [
      "For Loop 10 Color: green\n",
      "For Loop 10 Color: red\n",
      "For Loop 10 Color: blue\n"
     ]
    }
   ],
   "source": [
    "colors = {\"red\", \"blue\", \"green\"}\n",
    "for color in colors:\n",
    "    print(\"For Loop 10 Color:\", color)"
   ]
  },
  {
   "cell_type": "code",
   "execution_count": 32,
   "id": "eeb2ec42-4bf3-4fe1-afc6-622d04a968b1",
   "metadata": {},
   "outputs": [
    {
     "name": "stdout",
     "output_type": "stream",
     "text": [
      "shades is: green\n",
      "shades is: red\n",
      "shades is: blue\n"
     ]
    }
   ],
   "source": [
    "shades = {\"red\", \"blue\", \"green\"}\n",
    "for color in shades:\n",
    "    print(\"shades is:\", color)"
   ]
  },
  {
   "cell_type": "code",
   "execution_count": 33,
   "id": "e519b780-2461-45c9-9871-18651b3ea570",
   "metadata": {},
   "outputs": [],
   "source": [
    "# 11. Loop with break"
   ]
  },
  {
   "cell_type": "code",
   "execution_count": 34,
   "id": "b55f14e2-76f0-49b9-9e9f-2597b8e4c5f1",
   "metadata": {},
   "outputs": [
    {
     "name": "stdout",
     "output_type": "stream",
     "text": [
      "0\n",
      "1\n",
      "2\n",
      "3\n",
      "4\n"
     ]
    }
   ],
   "source": [
    "for i in range(10):\n",
    "    if i == 5:\n",
    "        break\n",
    "    print(i)"
   ]
  },
  {
   "cell_type": "code",
   "execution_count": 35,
   "id": "c3fa2e78-c6c8-44c2-9cd6-d5751c8954a8",
   "metadata": {},
   "outputs": [],
   "source": [
    "# 12. Loop with continue"
   ]
  },
  {
   "cell_type": "code",
   "execution_count": 36,
   "id": "50b3b314-cb4c-404d-bc0f-653365e6c854",
   "metadata": {},
   "outputs": [
    {
     "name": "stdout",
     "output_type": "stream",
     "text": [
      "0\n",
      "1\n",
      "2\n",
      "3\n",
      "4\n",
      "5\n",
      "6\n",
      "7\n",
      "8\n",
      "9\n",
      "10\n",
      "11\n",
      "12\n",
      "13\n",
      "14\n",
      "16\n",
      "17\n",
      "18\n",
      "19\n"
     ]
    }
   ],
   "source": [
    "for i in range(20):\n",
    "    if i == 15:\n",
    "        continue\n",
    "    print(i)"
   ]
  },
  {
   "cell_type": "code",
   "execution_count": 37,
   "id": "b7082f6a-be4e-4ef4-83f6-87c3f76fd6df",
   "metadata": {},
   "outputs": [],
   "source": [
    "# 13. Reverse a string"
   ]
  },
  {
   "cell_type": "code",
   "execution_count": 38,
   "id": "71039d6e-4494-4238-bbaa-fe866c05078c",
   "metadata": {},
   "outputs": [
    {
     "name": "stdout",
     "output_type": "stream",
     "text": [
      "For Loop 13 Reverse: e\n",
      "For Loop 13 Reverse: c\n",
      "For Loop 13 Reverse: n\n",
      "For Loop 13 Reverse: e\n",
      "For Loop 13 Reverse: i\n",
      "For Loop 13 Reverse: c\n",
      "For Loop 13 Reverse: s\n",
      "For Loop 13 Reverse:  \n",
      "For Loop 13 Reverse: a\n",
      "For Loop 13 Reverse: t\n",
      "For Loop 13 Reverse: a\n",
      "For Loop 13 Reverse: d\n"
     ]
    }
   ],
   "source": [
    "s = \"data science\"\n",
    "for char in reversed(s):\n",
    "    print(\"For Loop 13 Reverse:\", char)"
   ]
  },
  {
   "cell_type": "code",
   "execution_count": 43,
   "id": "6ba890e7-e2be-4179-957f-2f51e88d0feb",
   "metadata": {},
   "outputs": [],
   "source": [
    "# 14. Loop through two lists"
   ]
  },
  {
   "cell_type": "code",
   "execution_count": 45,
   "id": "5750cfe0-c4b3-4d78-906a-882536ea8a87",
   "metadata": {},
   "outputs": [
    {
     "name": "stdout",
     "output_type": "stream",
     "text": [
      "details: sarath 30\n",
      "details: sathvik 20\n",
      "details: sushma 25\n"
     ]
    }
   ],
   "source": [
    "names = [\"sarath\", \"sathvik\", \"sushma\"]\n",
    "age = [30, 20, 25]\n",
    "for name, age in zip(names, age):\n",
    "    print(\"details:\", name, age)\n",
    "    "
   ]
  },
  {
   "cell_type": "code",
   "execution_count": 46,
   "id": "d752f18b-0c82-4d6e-aea0-c7d29e86e119",
   "metadata": {},
   "outputs": [],
   "source": [
    "# 15. Nested list"
   ]
  },
  {
   "cell_type": "code",
   "execution_count": 47,
   "id": "c824d7ea-3620-45c3-b512-62f557336468",
   "metadata": {},
   "outputs": [
    {
     "name": "stdout",
     "output_type": "stream",
     "text": [
      "For Loop 15 Matrix Value: 1\n",
      "For Loop 15 Matrix Value: 2\n",
      "For Loop 15 Matrix Value: 3\n",
      "For Loop 15 Matrix Value: 4\n"
     ]
    }
   ],
   "source": [
    "matrix = [[1, 2], [3, 4]]\n",
    "for row in matrix:\n",
    "    for value in row:\n",
    "        print(\"For Loop 15 Matrix Value:\", value)"
   ]
  },
  {
   "cell_type": "code",
   "execution_count": 53,
   "id": "8a0e426d-bb02-4353-900d-7d702a64083c",
   "metadata": {},
   "outputs": [
    {
     "name": "stdout",
     "output_type": "stream",
     "text": [
      "collection of cars: ford\n",
      "collection of cars: honda\n",
      "collection of cars: kia\n",
      "collection of cars: audi\n"
     ]
    }
   ],
   "source": [
    "car = [[\"ford\", \"honda\"], [\"kia\", \"audi\"]]\n",
    "for row in car:\n",
    "    for value in row:\n",
    "        print(\"collection of cars:\", value)"
   ]
  },
  {
   "cell_type": "code",
   "execution_count": 54,
   "id": "fc7b8735-96b2-4f17-bff6-a7c37e7bbee7",
   "metadata": {},
   "outputs": [],
   "source": [
    "# 16. List comprehension"
   ]
  },
  {
   "cell_type": "code",
   "execution_count": 55,
   "id": "20e9dcc5-b34e-41b5-af4a-4558b21df62b",
   "metadata": {},
   "outputs": [
    {
     "name": "stdout",
     "output_type": "stream",
     "text": [
      "For Loop 16 Squares: [0, 1, 4, 9, 16]\n"
     ]
    }
   ],
   "source": [
    "squares = [x**2 for x in range(5)]\n",
    "print(\"For Loop 16 Squares:\", squares)"
   ]
  },
  {
   "cell_type": "code",
   "execution_count": 60,
   "id": "7c7e0f1b-edd2-4037-bb60-91099d63a5e4",
   "metadata": {},
   "outputs": [
    {
     "name": "stdout",
     "output_type": "stream",
     "text": [
      "squares: 0\n",
      "squares: 1\n",
      "squares: 4\n",
      "squares: 9\n",
      "squares: 16\n"
     ]
    }
   ],
   "source": [
    "for i in range(5):\n",
    "    print(\"squares:\" ,i*i)"
   ]
  },
  {
   "cell_type": "code",
   "execution_count": 61,
   "id": "e2c6c7e9-ae78-4c2f-be06-48011e52b362",
   "metadata": {},
   "outputs": [],
   "source": [
    "# 17. Loop with else"
   ]
  },
  {
   "cell_type": "code",
   "execution_count": 64,
   "id": "5448b702-447d-4f12-860a-53a17f2ec1e0",
   "metadata": {},
   "outputs": [
    {
     "name": "stdout",
     "output_type": "stream",
     "text": [
      "true\n",
      "true\n",
      "true\n",
      "true\n",
      "true\n",
      "false\n"
     ]
    }
   ],
   "source": [
    "for i in range(5):\n",
    " if i<10:\n",
    "    print(\"true\")\n",
    "else:\n",
    "    print(\"false\")"
   ]
  },
  {
   "cell_type": "code",
   "execution_count": 65,
   "id": "957d39ed-0408-44cf-aeba-56c15c1533a2",
   "metadata": {},
   "outputs": [
    {
     "name": "stdout",
     "output_type": "stream",
     "text": [
      "For Loop 17: 0\n",
      "For Loop 17: 1\n",
      "For Loop 17: 2\n",
      "For Loop 17: Done\n"
     ]
    }
   ],
   "source": [
    "for i in range(3):\n",
    "    print(\"For Loop 17:\", i)\n",
    "else:\n",
    "    print(\"For Loop 17: Done\")"
   ]
  },
  {
   "cell_type": "code",
   "execution_count": 66,
   "id": "3d396126-e748-4b1d-9684-9c0c595151ea",
   "metadata": {},
   "outputs": [],
   "source": [
    "# 18. Filter vowels"
   ]
  },
  {
   "cell_type": "code",
   "execution_count": 67,
   "id": "efc0876d-6cb0-4883-938e-d30d0fa27bbc",
   "metadata": {},
   "outputs": [
    {
     "name": "stdout",
     "output_type": "stream",
     "text": [
      "For Loop 18 Vowel: e\n",
      "For Loop 18 Vowel: u\n",
      "For Loop 18 Vowel: a\n",
      "For Loop 18 Vowel: i\n",
      "For Loop 18 Vowel: o\n"
     ]
    }
   ],
   "source": [
    "for char in \"education\":\n",
    "    if char in 'aeiou':\n",
    "        print(\"For Loop 18 Vowel:\", char)\n"
   ]
  },
  {
   "cell_type": "code",
   "execution_count": 68,
   "id": "78d83df4-7ba7-4977-b148-fd2fdb697c57",
   "metadata": {},
   "outputs": [
    {
     "name": "stdout",
     "output_type": "stream",
     "text": [
      " the filter vowels: e\n",
      " the filter vowels: u\n",
      " the filter vowels: o\n"
     ]
    }
   ],
   "source": [
    "for letters in \"edukron\":\n",
    "    if letters in 'aeiou':\n",
    "        print(\" the filter vowels:\", letters)"
   ]
  },
  {
   "cell_type": "code",
   "execution_count": 69,
   "id": "cb3105bd-7458-44db-b607-7dc6694added",
   "metadata": {},
   "outputs": [],
   "source": [
    "# 19. ASCII values"
   ]
  },
  {
   "cell_type": "code",
   "execution_count": 70,
   "id": "8b972356-ccf5-4e64-ae12-2a127300c89a",
   "metadata": {},
   "outputs": [
    {
     "name": "stdout",
     "output_type": "stream",
     "text": [
      " ascii values A : 65\n",
      " ascii values B : 66\n"
     ]
    }
   ],
   "source": [
    "for char in \"AB\":\n",
    "    print(\" ascii values\", char, \":\", ord(char))"
   ]
  },
  {
   "cell_type": "code",
   "execution_count": 71,
   "id": "8d471eba-49dc-4ba1-ae74-4f65366e70ff",
   "metadata": {},
   "outputs": [],
   "source": [
    "## while loops examples"
   ]
  },
  {
   "cell_type": "code",
   "execution_count": 74,
   "id": "96456032-3363-4ffa-bb07-42ca6a398322",
   "metadata": {},
   "outputs": [
    {
     "name": "stdout",
     "output_type": "stream",
     "text": [
      "While Loop 1 values: 1\n",
      "While Loop 1 values: 2\n",
      "While Loop 1 values: 3\n",
      "While Loop 1 values: 4\n",
      "While Loop 1 values: 5\n",
      "While Loop 1 values: 6\n",
      "While Loop 1 values: 7\n",
      "While Loop 1 values: 8\n",
      "While Loop 1 values: 9\n",
      "While Loop 1 values: 10\n"
     ]
    }
   ],
   "source": [
    "# 1. Count from 1 to 10\n",
    "\n",
    "i = 1\n",
    "while i <= 10:\n",
    "    print(\"While Loop 1 values:\", i)\n",
    "    i += 1\n"
   ]
  },
  {
   "cell_type": "code",
   "execution_count": 75,
   "id": "7d59237c-1978-44b9-abe2-a4f1409edeb9",
   "metadata": {},
   "outputs": [],
   "source": [
    "# 2. Print even numbers less than 10\n"
   ]
  },
  {
   "cell_type": "code",
   "execution_count": 77,
   "id": "94fce081-f828-45d2-aa87-b682f2cc7de3",
   "metadata": {},
   "outputs": [
    {
     "name": "stdout",
     "output_type": "stream",
     "text": [
      "While Loop 2 Even: 2\n",
      "While Loop 2 Even: 4\n",
      "While Loop 2 Even: 6\n",
      "While Loop 2 Even: 8\n",
      "While Loop 2 Even: 10\n",
      "While Loop 2 Even: 12\n",
      "While Loop 2 Even: 14\n",
      "While Loop 2 Even: 16\n",
      "While Loop 2 Even: 18\n"
     ]
    }
   ],
   "source": [
    "i = 2\n",
    "while i < 20:\n",
    "    print(\"While Loop 2 Even:\", i)\n",
    "    i += 2"
   ]
  },
  {
   "cell_type": "code",
   "execution_count": 78,
   "id": "8d3af6fe-965d-4c02-b8cf-52902dd9f871",
   "metadata": {},
   "outputs": [],
   "source": [
    "# 3. Sum until 100"
   ]
  },
  {
   "cell_type": "code",
   "execution_count": 82,
   "id": "f78ba473-50be-446c-9abc-54ed9751c992",
   "metadata": {},
   "outputs": [
    {
     "name": "stdout",
     "output_type": "stream",
     "text": [
      " sum is: 210\n"
     ]
    }
   ],
   "source": [
    "sum = 0\n",
    "i = 1\n",
    "while sum < 200:\n",
    "    sum += i\n",
    "    i += 1\n",
    "print(\" sum is:\", sum)\n"
   ]
  },
  {
   "cell_type": "code",
   "execution_count": null,
   "id": "9784e990-a7fc-46d0-80d0-2fe35c507374",
   "metadata": {},
   "outputs": [],
   "source": [
    "# 4. Countdown from 5"
   ]
  },
  {
   "cell_type": "code",
   "execution_count": 88,
   "id": "ccbf6748-333d-4214-885e-18063e957fcc",
   "metadata": {},
   "outputs": [
    {
     "name": "stdout",
     "output_type": "stream",
     "text": [
      "While Loop 4 Countdown: 5\n",
      "While Loop 4 Countdown: 4\n",
      "While Loop 4 Countdown: 3\n",
      "While Loop 4 Countdown: 2\n",
      "While Loop 4 Countdown: 1\n"
     ]
    }
   ],
   "source": [
    "i = 5\n",
    "while i > 0:\n",
    "    print(\"While Loop 4 Countdown:\", i)\n",
    "    i -= 1"
   ]
  },
  {
   "cell_type": "code",
   "execution_count": null,
   "id": "83503150-0764-4dd0-a498-24a6dd9dd520",
   "metadata": {},
   "outputs": [],
   "source": [
    "# 5. Infinite loop with break"
   ]
  },
  {
   "cell_type": "code",
   "execution_count": 89,
   "id": "c4602521-26e1-411c-9c7d-a058608078b8",
   "metadata": {},
   "outputs": [
    {
     "name": "stdout",
     "output_type": "stream",
     "text": [
      "infinite loop 0\n",
      "infinite loop 1\n",
      "infinite loop 2\n"
     ]
    }
   ],
   "source": [
    "i = 0\n",
    "while True:\n",
    "    print(\"infinite loop\", i)\n",
    "    if i == 2:\n",
    "        break\n",
    "    i += 1\n"
   ]
  },
  {
   "cell_type": "code",
   "execution_count": 87,
   "id": "fefa1c15-c405-4230-b7a8-83279fc46af0",
   "metadata": {},
   "outputs": [
    {
     "name": "stdout",
     "output_type": "stream",
     "text": [
      "hello world\n"
     ]
    }
   ],
   "source": [
    "print(\"hello world\")"
   ]
  },
  {
   "cell_type": "code",
   "execution_count": 90,
   "id": "6506229c-081d-4fb4-af3d-0779b013563b",
   "metadata": {},
   "outputs": [],
   "source": [
    "# 6. Loop with continue"
   ]
  },
  {
   "cell_type": "code",
   "execution_count": 92,
   "id": "1259e9c4-7a97-46ce-828a-c470d39a21cb",
   "metadata": {},
   "outputs": [
    {
     "name": "stdout",
     "output_type": "stream",
     "text": [
      "1\n",
      "2\n",
      "4\n",
      "5\n",
      "6\n",
      "7\n",
      "8\n",
      "9\n",
      "10\n"
     ]
    }
   ],
   "source": [
    "i=0\n",
    "while i<10:\n",
    "    i+=1\n",
    "    if i==3:\n",
    "        continue\n",
    "    print(i)"
   ]
  },
  {
   "cell_type": "code",
   "execution_count": 93,
   "id": "e6e5d057-93e3-41f9-985c-fbbd0952bab6",
   "metadata": {},
   "outputs": [],
   "source": [
    "# 7. Print powers of 2 below 100"
   ]
  },
  {
   "cell_type": "code",
   "execution_count": 94,
   "id": "7ec3e634-9867-430c-9865-450bd9bc40ee",
   "metadata": {},
   "outputs": [
    {
     "name": "stdout",
     "output_type": "stream",
     "text": [
      "Power of 2: 1\n",
      "Power of 2: 2\n",
      "Power of 2: 4\n",
      "Power of 2: 8\n",
      "Power of 2: 16\n",
      "Power of 2: 32\n",
      "Power of 2: 64\n"
     ]
    }
   ],
   "source": [
    "i = 1\n",
    "while i < 100:\n",
    "    print(\"Power of 2:\", i)\n",
    "    i *= 2"
   ]
  },
  {
   "cell_type": "code",
   "execution_count": 95,
   "id": "35a85e7c-04f6-4eff-b4fe-1496fd4fba56",
   "metadata": {},
   "outputs": [
    {
     "name": "stdout",
     "output_type": "stream",
     "text": [
      "While Loop 7 Power of 2: 2\n",
      "While Loop 7 Power of 2: 4\n",
      "While Loop 7 Power of 2: 8\n",
      "While Loop 7 Power of 2: 16\n",
      "While Loop 7 Power of 2: 32\n",
      "While Loop 7 Power of 2: 64\n",
      "While Loop 7 Power of 2: 128\n"
     ]
    }
   ],
   "source": [
    "i = 1\n",
    "while i < 100:\n",
    "    i *=2\n",
    "    print(\"While Loop 7 Power of 2:\", i)\n",
    "    "
   ]
  },
  {
   "cell_type": "code",
   "execution_count": 96,
   "id": "cec0cf18-e4f5-43f2-bb81-791d0086f541",
   "metadata": {},
   "outputs": [
    {
     "name": "stdout",
     "output_type": "stream",
     "text": [
      "List Item: 1\n",
      "List Item: 2\n",
      "List Item: 3\n"
     ]
    }
   ],
   "source": [
    "# 8. Loop over list\n",
    "lst = [1, 2, 3]\n",
    "i = 0\n",
    "while i < len(lst):\n",
    "    print(\"List Item:\", lst[i])\n",
    "    i += 1"
   ]
  },
  {
   "cell_type": "code",
   "execution_count": 99,
   "id": "0167f55b-7dca-4420-a0ec-90ab86245f59",
   "metadata": {},
   "outputs": [
    {
     "name": "stdout",
     "output_type": "stream",
     "text": [
      "yes\n"
     ]
    }
   ],
   "source": [
    "# 9. Input validation\n",
    "x = \"\"\n",
    "while x != \"yes\":\n",
    "    x = \"yes\"  # In real case, use input()\n",
    "    print(x)\n",
    "\n"
   ]
  },
  {
   "cell_type": "code",
   "execution_count": 100,
   "id": "1ffe394c-f473-4b49-9120-c1b18108bd10",
   "metadata": {},
   "outputs": [],
   "source": [
    "# 10. Factorial using while"
   ]
  },
  {
   "cell_type": "code",
   "execution_count": 101,
   "id": "f718648f-932a-4f79-a71c-30c61e17b42d",
   "metadata": {},
   "outputs": [
    {
     "name": "stdout",
     "output_type": "stream",
     "text": [
      "While Loop 10 Factorial: 120\n"
     ]
    }
   ],
   "source": [
    "n = 5\n",
    "fact = 1\n",
    "while n > 0:\n",
    "    fact *= n\n",
    "    n -= 1\n",
    "print(\"While Loop 10 Factorial:\", fact)\n"
   ]
  },
  {
   "cell_type": "code",
   "execution_count": 102,
   "id": "4fbf8aa8-7bf3-4ee5-b1d8-69d2f841166b",
   "metadata": {},
   "outputs": [],
   "source": [
    "# 11. Loop through characters"
   ]
  },
  {
   "cell_type": "code",
   "execution_count": 103,
   "id": "b233b2f9-8888-4666-95a7-d244e0a05b00",
   "metadata": {},
   "outputs": [
    {
     "name": "stdout",
     "output_type": "stream",
     "text": [
      "Char: d\n",
      "Char: a\n",
      "Char: t\n",
      "Char: a\n",
      "Char:  \n",
      "Char: s\n",
      "Char: c\n",
      "Char: i\n",
      "Char: e\n",
      "Char: n\n",
      "Char: c\n",
      "Char: e\n"
     ]
    }
   ],
   "source": [
    "s = \"data science\"\n",
    "i = 0\n",
    "while i < len(s):\n",
    "    print(\"Char:\", s[i])\n",
    "    i += 1\n"
   ]
  },
  {
   "cell_type": "code",
   "execution_count": null,
   "id": "e241de6e-fb3e-4148-bf02-e27424137cde",
   "metadata": {},
   "outputs": [],
   "source": [
    "# 12. Loop with else"
   ]
  },
  {
   "cell_type": "code",
   "execution_count": 106,
   "id": "6f1bf146-3723-4d53-82ea-527bff04860c",
   "metadata": {},
   "outputs": [
    {
     "name": "stdout",
     "output_type": "stream",
     "text": [
      "While Loop 12: 0\n",
      "While Loop 12: 1\n",
      "While Loop 12: 2\n",
      "While Loop 12: Done\n"
     ]
    }
   ],
   "source": [
    "i = 0\n",
    "while i < 3:\n",
    "    print(\"While Loop 12:\", i)\n",
    "    i += 1\n",
    "else:\n",
    "    print(\"While Loop 12: Done\")"
   ]
  },
  {
   "cell_type": "code",
   "execution_count": 107,
   "id": "4610c28b-8062-4d1d-ba82-699733da806b",
   "metadata": {},
   "outputs": [],
   "source": [
    "# 13. Print digits of number"
   ]
  },
  {
   "cell_type": "code",
   "execution_count": 108,
   "id": "242aca49-c969-42d1-859e-31ec7a6926e3",
   "metadata": {},
   "outputs": [
    {
     "name": "stdout",
     "output_type": "stream",
     "text": [
      "Digit: 0\n",
      "Digit: 5\n",
      "Digit: 1\n"
     ]
    }
   ],
   "source": [
    "n = 150\n",
    "while n > 0:\n",
    "    print(\"Digit:\", n % 10)\n",
    "    n //= 10"
   ]
  },
  {
   "cell_type": "code",
   "execution_count": 109,
   "id": "80d4ada7-6c12-4925-b0e9-36e0d39fe327",
   "metadata": {},
   "outputs": [],
   "source": [
    "\n",
    "# 14. Nested while loop"
   ]
  },
  {
   "cell_type": "code",
   "execution_count": 110,
   "id": "8178a2f8-3f5d-412a-a03d-867650a8a478",
   "metadata": {},
   "outputs": [
    {
     "name": "stdout",
     "output_type": "stream",
     "text": [
      "While Loop 14 Pair: 0 0\n",
      "While Loop 14 Pair: 0 1\n",
      "While Loop 14 Pair: 1 0\n",
      "While Loop 14 Pair: 1 1\n"
     ]
    }
   ],
   "source": [
    "i = 0\n",
    "while i < 2:\n",
    "    j = 0\n",
    "    while j < 2:\n",
    "        print(\"While Loop 14 Pair:\", i, j)\n",
    "        j += 1\n",
    "    i += 1"
   ]
  },
  {
   "cell_type": "code",
   "execution_count": 111,
   "id": "706bb879-7a60-4e38-a9b2-ddadb28e61a8",
   "metadata": {},
   "outputs": [],
   "source": [
    "# 15. Print odd numbers"
   ]
  },
  {
   "cell_type": "code",
   "execution_count": 112,
   "id": "c40b634d-c071-4638-96be-47c33b6d2fb2",
   "metadata": {},
   "outputs": [
    {
     "name": "stdout",
     "output_type": "stream",
     "text": [
      " Odd: 1\n",
      " Odd: 3\n",
      " Odd: 5\n",
      " Odd: 7\n",
      " Odd: 9\n"
     ]
    }
   ],
   "source": [
    "i = 1\n",
    "while i < 10:\n",
    "    print(\" Odd:\", i)\n",
    "    i += 2"
   ]
  },
  {
   "cell_type": "code",
   "execution_count": 113,
   "id": "4dd2b5c7-4737-489a-8a87-712004336810",
   "metadata": {},
   "outputs": [],
   "source": [
    "# 16. Check prime"
   ]
  },
  {
   "cell_type": "code",
   "execution_count": 114,
   "id": "7c99981c-de5c-4f3d-a9c2-81c4414bba2f",
   "metadata": {},
   "outputs": [
    {
     "name": "stdout",
     "output_type": "stream",
     "text": [
      "While Loop 16 Prime: True\n"
     ]
    }
   ],
   "source": [
    "n = 7\n",
    "i = 2\n",
    "is_prime = True\n",
    "while i < n:\n",
    "    if n % i == 0:\n",
    "        is_prime = False\n",
    "        break\n",
    "    i += 1\n",
    "print(\"While Loop 16 Prime:\", is_prime)"
   ]
  },
  {
   "cell_type": "code",
   "execution_count": 115,
   "id": "65b96d76-987e-4f85-9ba6-6a305e5e75a1",
   "metadata": {},
   "outputs": [
    {
     "name": "stdout",
     "output_type": "stream",
     "text": [
      "While Loop 17 Reverse: 321\n"
     ]
    }
   ],
   "source": [
    "# 17. Reverse number\n",
    "num = 123\n",
    "rev = 0\n",
    "while num > 0:\n",
    "    rev = rev * 10 + num % 10\n",
    "    num //= 10\n",
    "print(\"While Loop 17 Reverse:\", rev)\n"
   ]
  },
  {
   "cell_type": "code",
   "execution_count": 116,
   "id": "6ff53f4f-5523-41c5-964a-e10eb68fae1e",
   "metadata": {},
   "outputs": [
    {
     "name": "stdout",
     "output_type": "stream",
     "text": [
      "While Loop 18 Fibonacci: 1\n",
      "While Loop 18 Fibonacci: 1\n",
      "While Loop 18 Fibonacci: 2\n",
      "While Loop 18 Fibonacci: 3\n",
      "While Loop 18 Fibonacci: 5\n",
      "While Loop 18 Fibonacci: 8\n"
     ]
    }
   ],
   "source": [
    "# 18. Print Fibonacci up to 10\n",
    "a, b = 0, 1\n",
    "while b <= 10:\n",
    "    print(\"While Loop 18 Fibonacci:\", b)\n",
    "    a, b = b, a + b\n"
   ]
  },
  {
   "cell_type": "code",
   "execution_count": 117,
   "id": "280700d4-c503-45c4-a092-a3e0bff2c7d9",
   "metadata": {},
   "outputs": [],
   "source": [
    "\n",
    "# 19. Loop to find first multiple of 7 > 50"
   ]
  },
  {
   "cell_type": "code",
   "execution_count": 119,
   "id": "ab1004be-8288-458a-a906-a5325ee59453",
   "metadata": {},
   "outputs": [
    {
     "name": "stdout",
     "output_type": "stream",
     "text": [
      "While Loop 19 First Multiple of 7 > 50: 56\n"
     ]
    }
   ],
   "source": [
    "n = 55\n",
    "while n % 7 != 0:\n",
    "    n += 1\n",
    "print(\"While Loop 19 First Multiple of 7 > 50:\", n)\n"
   ]
  },
  {
   "cell_type": "code",
   "execution_count": 120,
   "id": "3e85d3d3-54ea-441c-bf7a-1befb306a50e",
   "metadata": {},
   "outputs": [],
   "source": [
    "# 20. Check palindrome"
   ]
  },
  {
   "cell_type": "code",
   "execution_count": 121,
   "id": "2a863d60-e403-466e-9998-1d8a26c84df7",
   "metadata": {},
   "outputs": [
    {
     "name": "stdout",
     "output_type": "stream",
     "text": [
      "While Loop 20 Palindrome: True\n"
     ]
    }
   ],
   "source": [
    "word = \"madam\"\n",
    "i = 0\n",
    "j = len(word) - 1\n",
    "is_palindrome = True\n",
    "while i < j:\n",
    "    if word[i] != word[j]:\n",
    "        is_palindrome = False\n",
    "        break\n",
    "    i += 1\n",
    "    j -= 1\n",
    "print(\"While Loop 20 Palindrome:\", is_palindrome)\n"
   ]
  },
  {
   "cell_type": "code",
   "execution_count": 122,
   "id": "f68301b3-8b0c-439c-8fca-c3bcb9383098",
   "metadata": {},
   "outputs": [],
   "source": [
    "## ifelse examples\n"
   ]
  },
  {
   "cell_type": "code",
   "execution_count": 123,
   "id": "330cdac8-666c-4a79-9216-ffd7fe631a3f",
   "metadata": {},
   "outputs": [],
   "source": [
    "# 1. Check even or odd"
   ]
  },
  {
   "cell_type": "code",
   "execution_count": 124,
   "id": "616411e7-24b2-4e9a-9b5d-a37692b5ed9d",
   "metadata": {},
   "outputs": [
    {
     "name": "stdout",
     "output_type": "stream",
     "text": [
      "even\n"
     ]
    }
   ],
   "source": [
    "num = 6\n",
    "if num%2==0:\n",
    "     print(\"even\")\n",
    "else:\n",
    "    print(\"odd\")"
   ]
  },
  {
   "cell_type": "code",
   "execution_count": 125,
   "id": "2eaac17d-0131-4dbf-bcb9-c60d588abadd",
   "metadata": {},
   "outputs": [],
   "source": [
    "# 2. Positive, Negative or Zero"
   ]
  },
  {
   "cell_type": "code",
   "execution_count": 133,
   "id": "08fbfd43-6a34-4231-a46a-38d791f17ac6",
   "metadata": {},
   "outputs": [
    {
     "name": "stdout",
     "output_type": "stream",
     "text": [
      "Positive\n"
     ]
    }
   ],
   "source": [
    "n = 10\n",
    "if n > 0:\n",
    "    print(\"Positive\")\n",
    "elif n < 0:\n",
    "    print(\"If-Else 2: Negative\")\n",
    "else:\n",
    "    print(\"If-Else 2: Zero\")\n",
    "\n",
    " "
   ]
  },
  {
   "cell_type": "code",
   "execution_count": 134,
   "id": "d58bc9e0-c62c-490b-af43-ad0617bf5451",
   "metadata": {},
   "outputs": [],
   "source": [
    "# 3. Check eligibility"
   ]
  },
  {
   "cell_type": "code",
   "execution_count": 135,
   "id": "80f7c1bb-aea9-474b-bbb5-0b10dbc6c5d0",
   "metadata": {},
   "outputs": [
    {
     "name": "stdout",
     "output_type": "stream",
     "text": [
      "Eligible to vote\n"
     ]
    }
   ],
   "source": [
    "age =20\n",
    "if age > 18:\n",
    "    print(\"Eligible to vote\")\n",
    "else:\n",
    "    print(\"right not to vote\")\n"
   ]
  },
  {
   "cell_type": "code",
   "execution_count": 136,
   "id": "2db9c097-f29b-42e5-9ab3-69b046df4091",
   "metadata": {},
   "outputs": [],
   "source": [
    "# 4. Max of two"
   ]
  },
  {
   "cell_type": "code",
   "execution_count": 137,
   "id": "f1f29795-f3e7-4c68-89e3-9493c4d3ab03",
   "metadata": {},
   "outputs": [
    {
     "name": "stdout",
     "output_type": "stream",
     "text": [
      " Max is 10\n"
     ]
    }
   ],
   "source": [
    "a=10\n",
    "b=5\n",
    "if a > b:\n",
    "    print(\" Max is\", a)\n",
    "else:\n",
    "    print(\" Max is\", b)"
   ]
  },
  {
   "cell_type": "code",
   "execution_count": 138,
   "id": "894c0459-4fc8-470a-9479-d33e03feabe9",
   "metadata": {},
   "outputs": [],
   "source": [
    "# 5. Grading"
   ]
  },
  {
   "cell_type": "code",
   "execution_count": 139,
   "id": "7bf23f33-cd6f-4fc9-9c89-6c9fb41a2f2c",
   "metadata": {},
   "outputs": [
    {
     "name": "stdout",
     "output_type": "stream",
     "text": [
      "B\n"
     ]
    }
   ],
   "source": [
    "score = 85\n",
    "if score >= 90:\n",
    "    print(\" A\")\n",
    "elif score >= 80:\n",
    "    print(\"B\")\n",
    "else:\n",
    "    print(\"C\")\n"
   ]
  },
  {
   "cell_type": "code",
   "execution_count": 140,
   "id": "fb3ce482-555f-4c9d-a478-7fd10f385745",
   "metadata": {},
   "outputs": [],
   "source": [
    "# 6. Check divisor"
   ]
  },
  {
   "cell_type": "code",
   "execution_count": 141,
   "id": "bbc496a1-1930-49f5-a065-3ed8f412dea5",
   "metadata": {},
   "outputs": [
    {
     "name": "stdout",
     "output_type": "stream",
     "text": [
      " Divisible by 5\n"
     ]
    }
   ],
   "source": [
    "a = 50\n",
    "if a % 5 == 0:\n",
    "    print(\" Divisible by 5\")"
   ]
  },
  {
   "cell_type": "code",
   "execution_count": 142,
   "id": "d947faa8-7047-4755-a540-53f3e5069ee3",
   "metadata": {},
   "outputs": [],
   "source": [
    "# 7. Username match"
   ]
  },
  {
   "cell_type": "code",
   "execution_count": 144,
   "id": "503ac688-2093-4d76-ade0-a4ecb58eae61",
   "metadata": {},
   "outputs": [],
   "source": [
    "username = \"sowjanya\""
   ]
  },
  {
   "cell_type": "code",
   "execution_count": 149,
   "id": "1e7e922f-4a99-4558-bf71-0fa464354329",
   "metadata": {},
   "outputs": [
    {
     "name": "stdout",
     "output_type": "stream",
     "text": [
      "Welcome admin\n"
     ]
    }
   ],
   "source": [
    "username = \"sowjanya\"\n",
    "if username == \"sowjanya\":\n",
    "    print(\"Welcome admin\")"
   ]
  },
  {
   "cell_type": "code",
   "execution_count": 150,
   "id": "0302c280-c027-41fe-bd63-b13af23dfb43",
   "metadata": {},
   "outputs": [],
   "source": [
    "# 8. Password check"
   ]
  },
  {
   "cell_type": "code",
   "execution_count": 151,
   "id": "c0225cb9-d993-4d76-8f5a-1e6a2597ef02",
   "metadata": {},
   "outputs": [
    {
     "name": "stdout",
     "output_type": "stream",
     "text": [
      "If-Else 8: Access denied\n"
     ]
    }
   ],
   "source": [
    "password = \"1234@56\"\n",
    "if password == \"1234\":\n",
    "    print(\"If-Else 8: Access granted\")\n",
    "else:\n",
    "    print(\"If-Else 8: Access denied\")"
   ]
  },
  {
   "cell_type": "code",
   "execution_count": 152,
   "id": "f8df9f58-5e8f-4b81-9be6-6a418b2ab763",
   "metadata": {},
   "outputs": [],
   "source": [
    "# 9. Number in range"
   ]
  },
  {
   "cell_type": "code",
   "execution_count": 155,
   "id": "12722691-4a5a-4213-97b9-e722cf9edfd7",
   "metadata": {},
   "outputs": [
    {
     "name": "stdout",
     "output_type": "stream",
     "text": [
      "If-Else 9: In range\n"
     ]
    }
   ],
   "source": [
    "num = 8\n",
    "if 1 <= num <= 10:\n",
    "    print(\"If-Else 9: In range\")"
   ]
  },
  {
   "cell_type": "code",
   "execution_count": 156,
   "id": "dde3abb8-df8e-4ed0-9956-eb97982d1b12",
   "metadata": {},
   "outputs": [],
   "source": [
    "\n",
    "# 10. Leap year check\n"
   ]
  },
  {
   "cell_type": "code",
   "execution_count": 157,
   "id": "9a68b4d7-c2de-4764-9c34-6b8161bc296b",
   "metadata": {},
   "outputs": [
    {
     "name": "stdout",
     "output_type": "stream",
     "text": [
      "If-Else 10: Leap Year\n"
     ]
    }
   ],
   "source": [
    "year = 2020\n",
    "if (year % 4 == 0 and year % 100 != 0) or (year % 400 == 0):\n",
    "    print(\"If-Else 10: Leap Year\")\n",
    "else:\n",
    "    print(\"If-Else 10: Not Leap Year\")\n"
   ]
  },
  {
   "cell_type": "code",
   "execution_count": 158,
   "id": "bd4ea17f-924e-4111-8881-663b3ea8cc55",
   "metadata": {},
   "outputs": [],
   "source": [
    "# 11. Check type\n"
   ]
  },
  {
   "cell_type": "code",
   "execution_count": 159,
   "id": "f4dab06a-d875-450a-af00-8c924e253f06",
   "metadata": {},
   "outputs": [
    {
     "name": "stdout",
     "output_type": "stream",
     "text": [
      "If-Else 11: It’s a string\n"
     ]
    }
   ],
   "source": [
    "value = \"123\"\n",
    "if isinstance(value, str):\n",
    "    print(\"If-Else 11: It’s a string\")"
   ]
  },
  {
   "cell_type": "code",
   "execution_count": 160,
   "id": "b0f82c2f-25e5-4a70-b76d-e83689429460",
   "metadata": {},
   "outputs": [],
   "source": [
    "# 12. Check alphabet"
   ]
  },
  {
   "cell_type": "code",
   "execution_count": 161,
   "id": "25601ee6-8a17-4aa5-a0ef-e42b4d7b9477",
   "metadata": {},
   "outputs": [
    {
     "name": "stdout",
     "output_type": "stream",
     "text": [
      "Alphabet\n"
     ]
    }
   ],
   "source": [
    "char = 'a'\n",
    "if char.isalpha():\n",
    "    print(\"Alphabet\")"
   ]
  },
  {
   "cell_type": "code",
   "execution_count": 162,
   "id": "60e3f9b9-8624-4f86-b7a2-0cc9ecbbf83d",
   "metadata": {},
   "outputs": [],
   "source": [
    "\n",
    "# 13. Check upper or lower"
   ]
  },
  {
   "cell_type": "code",
   "execution_count": 163,
   "id": "fde228e7-0e19-494d-b632-f7613eaac810",
   "metadata": {},
   "outputs": [
    {
     "name": "stdout",
     "output_type": "stream",
     "text": [
      "Uppercase\n"
     ]
    }
   ],
   "source": [
    "char = 'DATA'\n",
    "if char.isupper():\n",
    "    print(\"Uppercase\")\n",
    "else:\n",
    "    print(\"Lowercase\")\n"
   ]
  },
  {
   "cell_type": "code",
   "execution_count": 164,
   "id": "30338573-525d-4a06-976e-87d273110532",
   "metadata": {},
   "outputs": [],
   "source": [
    "# 14. Vowel or consonant"
   ]
  },
  {
   "cell_type": "code",
   "execution_count": 166,
   "id": "792fec33-c70a-43a1-8358-5ed013a84d7b",
   "metadata": {},
   "outputs": [
    {
     "name": "stdout",
     "output_type": "stream",
     "text": [
      "Consonant\n"
     ]
    }
   ],
   "source": [
    "ch = 'g'\n",
    "if ch in 'aeiou':\n",
    "    print(\"Vowel\")\n",
    "else:\n",
    "    print(\"Consonant\")"
   ]
  },
  {
   "cell_type": "code",
   "execution_count": 167,
   "id": "ec61d2fe-1cd9-481d-9db7-f6663b355fdb",
   "metadata": {},
   "outputs": [],
   "source": [
    "# 15. Login validation"
   ]
  },
  {
   "cell_type": "code",
   "execution_count": 168,
   "id": "413ca7e8-7b24-4e8d-8f90-6cf88f1f6a09",
   "metadata": {},
   "outputs": [
    {
     "name": "stdout",
     "output_type": "stream",
     "text": [
      "Login Successful\n"
     ]
    }
   ],
   "source": [
    "uname = \"rajii\"\n",
    "pwd = \"pass\"\n",
    "if uname == \"rajii\" and pwd == \"pass\":\n",
    "    print(\"Login Successful\")\n",
    "else:\n",
    "    print(\"Login Failed\")\n"
   ]
  },
  {
   "cell_type": "code",
   "execution_count": 169,
   "id": "b5ee8d42-841d-4632-827e-0d3fc1cbfdd5",
   "metadata": {},
   "outputs": [],
   "source": [
    "# 16. Triangle type"
   ]
  },
  {
   "cell_type": "code",
   "execution_count": 170,
   "id": "7d344c10-fef8-4e55-8a17-9fd01306c61b",
   "metadata": {},
   "outputs": [
    {
     "name": "stdout",
     "output_type": "stream",
     "text": [
      "If-Else 16: Scalene\n"
     ]
    }
   ],
   "source": [
    "a, b, c = 5, 3, 6\n",
    "if a == b == c:\n",
    "    print(\"If-Else 16: Equilateral\")\n",
    "elif a == b or b == c or a == c:\n",
    "    print(\"If-Else 16: Isosceles\")\n",
    "else:\n",
    "    print(\"If-Else 16: Scalene\")"
   ]
  },
  {
   "cell_type": "code",
   "execution_count": 171,
   "id": "1cebefac-1b27-4772-8850-f4532f348f06",
   "metadata": {},
   "outputs": [],
   "source": [
    "# 17. Age group"
   ]
  },
  {
   "cell_type": "code",
   "execution_count": 172,
   "id": "c3bb27a8-8c3a-4c24-a91f-1216c8da7a56",
   "metadata": {},
   "outputs": [
    {
     "name": "stdout",
     "output_type": "stream",
     "text": [
      "Adult\n"
     ]
    }
   ],
   "source": [
    "age = 50\n",
    "if age < 13:\n",
    "    print(\"Child\")\n",
    "elif age < 20:\n",
    "    print(\"Teen\")\n",
    "else:\n",
    "    print(\"Adult\")\n"
   ]
  },
  {
   "cell_type": "code",
   "execution_count": 173,
   "id": "ad325e1b-a8c2-45e8-bd6d-e98ec977e5e7",
   "metadata": {},
   "outputs": [],
   "source": [
    "# 18. Check last digit"
   ]
  },
  {
   "cell_type": "code",
   "execution_count": 174,
   "id": "28a05530-e8d2-4e81-bb0e-4cee88c052fc",
   "metadata": {},
   "outputs": [],
   "source": [
    "n = 150\n",
    "if n % 10 == 3:\n",
    "    print(\"Ends with 3\")"
   ]
  },
  {
   "cell_type": "code",
   "execution_count": 175,
   "id": "c8d7e8bc-8c86-4e0e-8ce6-187e0575cdd3",
   "metadata": {},
   "outputs": [],
   "source": [
    "# 19. Number length"
   ]
  },
  {
   "cell_type": "code",
   "execution_count": 178,
   "id": "66192008-a0e8-4376-9934-92b9a3c3a7b6",
   "metadata": {},
   "outputs": [
    {
     "name": "stdout",
     "output_type": "stream",
     "text": [
      " 4-digit number\n"
     ]
    }
   ],
   "source": [
    "n = 1234\n",
    "if len(str(n)) == 4:\n",
    "    print(\" 4-digit number\")"
   ]
  },
  {
   "cell_type": "code",
   "execution_count": 179,
   "id": "3f1db3eb-e499-4021-ab0e-908361720689",
   "metadata": {},
   "outputs": [],
   "source": [
    "# 20. Compare strings"
   ]
  },
  {
   "cell_type": "code",
   "execution_count": 180,
   "id": "5dc51cd2-173e-42cb-ae36-f0cd47feb872",
   "metadata": {},
   "outputs": [
    {
     "name": "stdout",
     "output_type": "stream",
     "text": [
      "s1 comes before s2\n"
     ]
    }
   ],
   "source": [
    "s1 = \"hello edukron\"\n",
    "s2 = \"world\"\n",
    "if s1 < s2:\n",
    "    print(\"s1 comes before s2\")"
   ]
  },
  {
   "cell_type": "code",
   "execution_count": null,
   "id": "83403426-585a-4ace-a7d2-560811d12ea4",
   "metadata": {},
   "outputs": [],
   "source": []
  }
 ],
 "metadata": {
  "kernelspec": {
   "display_name": "Python 3 (ipykernel)",
   "language": "python",
   "name": "python3"
  },
  "language_info": {
   "codemirror_mode": {
    "name": "ipython",
    "version": 3
   },
   "file_extension": ".py",
   "mimetype": "text/x-python",
   "name": "python",
   "nbconvert_exporter": "python",
   "pygments_lexer": "ipython3",
   "version": "3.13.3"
  }
 },
 "nbformat": 4,
 "nbformat_minor": 5
}
